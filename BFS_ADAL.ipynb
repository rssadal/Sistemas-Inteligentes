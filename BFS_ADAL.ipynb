{
 "cells": [
  {
   "cell_type": "markdown",
   "metadata": {},
   "source": [
    "Estados Iniciais e Finais"
   ]
  },
  {
   "cell_type": "code",
   "execution_count": 1,
   "metadata": {},
   "outputs": [],
   "source": [
    "import copy\n",
    "\n",
    "estadoI = [\n",
    "[2, 8, 3], \n",
    "[1, 6, 4],  \n",
    "[7, 0, 5]\n",
    "]\n",
    "\n",
    "estadoF = [\n",
    "[1, 2, 3], \n",
    "[8, 0, 4],  \n",
    "[7, 6, 5]\n",
    "]\n",
    "\n"
   ]
  },
  {
   "cell_type": "markdown",
   "metadata": {},
   "source": [
    "Objeto"
   ]
  },
  {
   "cell_type": "code",
   "execution_count": null,
   "metadata": {},
   "outputs": [],
   "source": [
    "class Vertice():\n",
    "    def __init__(self,estadoA,pai):\n",
    "        self.estadoA = estadoA;\n",
    "        self.pai = pai;\n"
   ]
  },
  {
   "cell_type": "markdown",
   "metadata": {},
   "source": [
    "BFS"
   ]
  },
  {
   "cell_type": "code",
   "execution_count": null,
   "metadata": {},
   "outputs": [],
   "source": [
    "def gerar_filhos(estado):\n",
    "    aux = []\n",
    "    nlinha = len(estado.estadoA)\n",
    "    ncoluna = len(estado.estadoA[0])\n",
    "    filhos = []\n",
    "    for i in range(nlinha):\n",
    "        for j in range(ncoluna):\n",
    "            if estado[i][j] == 0:\n",
    "                #print(estadoI[i][j])\n",
    "                #print(i, j)\n",
    "                #avaliar possibilidades de movimento\n",
    "                if(i > 0): #posso mover para cima\n",
    "                    aux = copy.deepcopy(estado)\n",
    "                    aux[i][j] = aux[i-1][j] #a posiçao em que estava o 0 recebeu o numero de cima\n",
    "                    aux[i-1][j] = 0 #o numero que estava em cima recebeu o 0\n",
    "                    #verificar se o estado existe em abertos e fechados (nao adicionar eles)\n",
    "                    #coloque os filhos a diretia em abertos\n",
    "                    filhos.append(aux)\n",
    "                if(j>=0 and j<2): #pode mover para direita\n",
    "                    aux = copy.deepcopy(estado)\n",
    "                    aux[i][j] = aux[i][j+1] #a posiçao em que estava o 0 recebeu o numero da direita\n",
    "                    aux[i][j+1] = 0  #o numero que estava a direita recebeu o 0\n",
    "                    #verificar se o estado existe em abertos e fechados (nao adicionar eles)\n",
    "                    #coloque os filhos a diretia em abertos\n",
    "                    filhos.append(aux)\n",
    "                if(j<=2 and j>0): #pode movar para esquerda\n",
    "                    aux = copy.deepcopy(estado)\n",
    "                    aux[i][j] = aux[i][j-1] #a posiçao em que estava o 0 recebeu o numero da esquerda\n",
    "                    aux[i][j-1] = 0  #o numero que estava a esquerda recebeu o 0\n",
    "                    #verificar se o estado existe em abertos e fechados (nao adicionar eles)\n",
    "                    #coloque os filhos a diretia em abertos\n",
    "                    filhos.append(aux)\n",
    "                if(i < 2): #pode mover para baixo\n",
    "                    aux = copy.deepcopy(estado)\n",
    "                    aux[i][j] = aux[i+1][j] #a posiçao em que estava o 0 recebeu o numero de baixo\n",
    "                    aux[i+1][j] = 0 #o numero que estava em baixo recebeu o 0\n",
    "                    #verificar se o estado existe em abertos e fechados (nao adicionar eles)\n",
    "                    #coloque os filhos a diretia em abertos\n",
    "                    filhos.append(aux)   \n",
    "                return filhos\n",
    "\n",
    "\n",
    "def BFS (Vertice_Inicial):\n",
    "    abertos = [Vertice_Inicial]\n",
    "    fechados = []\n",
    "    geracao = []\n",
    "    X = Vertice(None,None)\n",
    "    while abertos != []:\n",
    "        X  = abertos.pop(0)\n",
    "        if X.estadoA == estadoF:\n",
    "            print(\"chegamos\")\n",
    "            print(X)\n",
    "            return True\n",
    "        else:\n",
    "            geracao = gerar_filhos(X)\n",
    "            fechados.append(X)\n",
    "            for i in geracao:\n",
    "                if i not in abertos and i not in fechados:\n",
    "                  abertos.append(i)\n",
    "    print(\"nao chegamos\")\n",
    "    return False"
   ]
  },
  {
   "cell_type": "code",
   "execution_count": null,
   "metadata": {},
   "outputs": [],
   "source": [
    "vertice_Inicial = Vertice(estadoI,None)\n",
    "BFS(vertice_Inicial)"
   ]
  }
 ],
 "metadata": {
  "kernelspec": {
   "display_name": "Python 3.10.4 64-bit",
   "language": "python",
   "name": "python3"
  },
  "language_info": {
   "codemirror_mode": {
    "name": "ipython",
    "version": 3
   },
   "file_extension": ".py",
   "mimetype": "text/x-python",
   "name": "python",
   "nbconvert_exporter": "python",
   "pygments_lexer": "ipython3",
   "version": "3.10.4"
  },
  "orig_nbformat": 4,
  "vscode": {
   "interpreter": {
    "hash": "916dbcbb3f70747c44a77c7bcd40155683ae19c65e1c03b4aa3499c5328201f1"
   }
  }
 },
 "nbformat": 4,
 "nbformat_minor": 2
}
